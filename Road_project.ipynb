{
  "nbformat": 4,
  "nbformat_minor": 0,
  "metadata": {
    "colab": {
      "provenance": [],
      "authorship_tag": "ABX9TyOLbzC4SfUq46pu4uRkXc6f",
      "include_colab_link": true
    },
    "kernelspec": {
      "name": "python3",
      "display_name": "Python 3"
    },
    "language_info": {
      "name": "python"
    }
  },
  "cells": [
    {
      "cell_type": "markdown",
      "metadata": {
        "id": "view-in-github",
        "colab_type": "text"
      },
      "source": [
        "<a href=\"https://colab.research.google.com/github/Sreejith-CG/Machine-Learning/blob/main/Road_project.ipynb\" target=\"_parent\"><img src=\"https://colab.research.google.com/assets/colab-badge.svg\" alt=\"Open In Colab\"/></a>"
      ]
    },
    {
      "cell_type": "code",
      "execution_count": null,
      "metadata": {
        "id": "G3wwJ-tj-b7j",
        "colab": {
          "base_uri": "https://localhost:8080/",
          "height": 609
        },
        "outputId": "8870638f-4800-4d1c-dfac-a5b5ff9c2d53"
      },
      "outputs": [
        {
          "output_type": "execute_result",
          "data": {
            "text/plain": [
              "           Time Day_of_week Age_band_of_driver Sex_of_driver  \\\n",
              "0      17:02:00      Monday              18-30          Male   \n",
              "1      17:02:00      Monday              31-50          Male   \n",
              "2      17:02:00      Monday              18-30          Male   \n",
              "3       1:06:00      Sunday              18-30          Male   \n",
              "4       1:06:00      Sunday              18-30          Male   \n",
              "...         ...         ...                ...           ...   \n",
              "12311  16:15:00   Wednesday              31-50          Male   \n",
              "12312  18:00:00      Sunday            Unknown          Male   \n",
              "12313  13:55:00      Sunday            Over 51          Male   \n",
              "12314  13:55:00      Sunday              18-30        Female   \n",
              "12315  13:55:00      Sunday              18-30          Male   \n",
              "\n",
              "        Educational_level Vehicle_driver_relation Driving_experience  \\\n",
              "0       Above high school                Employee              1-2yr   \n",
              "1      Junior high school                Employee         Above 10yr   \n",
              "2      Junior high school                Employee              1-2yr   \n",
              "3      Junior high school                Employee             5-10yr   \n",
              "4      Junior high school                Employee              2-5yr   \n",
              "...                   ...                     ...                ...   \n",
              "12311                 NaN                Employee              2-5yr   \n",
              "12312   Elementary school                Employee             5-10yr   \n",
              "12313  Junior high school                Employee             5-10yr   \n",
              "12314  Junior high school                Employee         Above 10yr   \n",
              "12315  Junior high school                Employee             5-10yr   \n",
              "\n",
              "           Type_of_vehicle Owner_of_vehicle Service_year_of_vehicle  ...  \\\n",
              "0               Automobile            Owner              Above 10yr  ...   \n",
              "1      Public (> 45 seats)            Owner                 5-10yrs  ...   \n",
              "2          Lorry (41?100Q)            Owner                     NaN  ...   \n",
              "3      Public (> 45 seats)     Governmental                     NaN  ...   \n",
              "4                      NaN            Owner                 5-10yrs  ...   \n",
              "...                    ...              ...                     ...  ...   \n",
              "12311       Lorry (11?40Q)            Owner                     NaN  ...   \n",
              "12312           Automobile            Owner                     NaN  ...   \n",
              "12313                Bajaj            Owner                  2-5yrs  ...   \n",
              "12314      Lorry (41?100Q)            Owner                  2-5yrs  ...   \n",
              "12315                Other            Owner                  2-5yrs  ...   \n",
              "\n",
              "      Vehicle_movement   Casualty_class Sex_of_casualty Age_band_of_casualty  \\\n",
              "0       Going straight               na              na                   na   \n",
              "1       Going straight               na              na                   na   \n",
              "2       Going straight  Driver or rider            Male                31-50   \n",
              "3       Going straight       Pedestrian          Female                18-30   \n",
              "4       Going straight               na              na                   na   \n",
              "...                ...              ...             ...                  ...   \n",
              "12311   Going straight               na              na                   na   \n",
              "12312            Other               na              na                   na   \n",
              "12313            Other  Driver or rider            Male                31-50   \n",
              "12314            Other               na              na                   na   \n",
              "12315         Stopping       Pedestrian          Female                    5   \n",
              "\n",
              "      Casualty_severity Work_of_casuality Fitness_of_casuality  \\\n",
              "0                    na               NaN                  NaN   \n",
              "1                    na               NaN                  NaN   \n",
              "2                     3            Driver                  NaN   \n",
              "3                     3            Driver               Normal   \n",
              "4                    na               NaN                  NaN   \n",
              "...                 ...               ...                  ...   \n",
              "12311                na            Driver               Normal   \n",
              "12312                na            Driver               Normal   \n",
              "12313                 3            Driver               Normal   \n",
              "12314                na            Driver               Normal   \n",
              "12315                 3            Driver               Normal   \n",
              "\n",
              "                                     Pedestrian_movement  \\\n",
              "0                                       Not a Pedestrian   \n",
              "1                                       Not a Pedestrian   \n",
              "2                                       Not a Pedestrian   \n",
              "3                                       Not a Pedestrian   \n",
              "4                                       Not a Pedestrian   \n",
              "...                                                  ...   \n",
              "12311                                   Not a Pedestrian   \n",
              "12312                                   Not a Pedestrian   \n",
              "12313                                   Not a Pedestrian   \n",
              "12314                                   Not a Pedestrian   \n",
              "12315  Crossing from nearside - masked by parked or s...   \n",
              "\n",
              "                          Cause_of_accident Accident_severity  \n",
              "0                           Moving Backward     Slight Injury  \n",
              "1                                Overtaking     Slight Injury  \n",
              "2                 Changing lane to the left    Serious Injury  \n",
              "3                Changing lane to the right     Slight Injury  \n",
              "4                                Overtaking     Slight Injury  \n",
              "...                                     ...               ...  \n",
              "12311                         No distancing     Slight Injury  \n",
              "12312                         No distancing     Slight Injury  \n",
              "12313            Changing lane to the right    Serious Injury  \n",
              "12314  Driving under the influence of drugs     Slight Injury  \n",
              "12315            Changing lane to the right     Slight Injury  \n",
              "\n",
              "[12316 rows x 32 columns]"
            ],
            "text/html": [
              "\n",
              "  <div id=\"df-ee6f1c6e-666c-4658-928d-eeff1baa54ea\">\n",
              "    <div class=\"colab-df-container\">\n",
              "      <div>\n",
              "<style scoped>\n",
              "    .dataframe tbody tr th:only-of-type {\n",
              "        vertical-align: middle;\n",
              "    }\n",
              "\n",
              "    .dataframe tbody tr th {\n",
              "        vertical-align: top;\n",
              "    }\n",
              "\n",
              "    .dataframe thead th {\n",
              "        text-align: right;\n",
              "    }\n",
              "</style>\n",
              "<table border=\"1\" class=\"dataframe\">\n",
              "  <thead>\n",
              "    <tr style=\"text-align: right;\">\n",
              "      <th></th>\n",
              "      <th>Time</th>\n",
              "      <th>Day_of_week</th>\n",
              "      <th>Age_band_of_driver</th>\n",
              "      <th>Sex_of_driver</th>\n",
              "      <th>Educational_level</th>\n",
              "      <th>Vehicle_driver_relation</th>\n",
              "      <th>Driving_experience</th>\n",
              "      <th>Type_of_vehicle</th>\n",
              "      <th>Owner_of_vehicle</th>\n",
              "      <th>Service_year_of_vehicle</th>\n",
              "      <th>...</th>\n",
              "      <th>Vehicle_movement</th>\n",
              "      <th>Casualty_class</th>\n",
              "      <th>Sex_of_casualty</th>\n",
              "      <th>Age_band_of_casualty</th>\n",
              "      <th>Casualty_severity</th>\n",
              "      <th>Work_of_casuality</th>\n",
              "      <th>Fitness_of_casuality</th>\n",
              "      <th>Pedestrian_movement</th>\n",
              "      <th>Cause_of_accident</th>\n",
              "      <th>Accident_severity</th>\n",
              "    </tr>\n",
              "  </thead>\n",
              "  <tbody>\n",
              "    <tr>\n",
              "      <th>0</th>\n",
              "      <td>17:02:00</td>\n",
              "      <td>Monday</td>\n",
              "      <td>18-30</td>\n",
              "      <td>Male</td>\n",
              "      <td>Above high school</td>\n",
              "      <td>Employee</td>\n",
              "      <td>1-2yr</td>\n",
              "      <td>Automobile</td>\n",
              "      <td>Owner</td>\n",
              "      <td>Above 10yr</td>\n",
              "      <td>...</td>\n",
              "      <td>Going straight</td>\n",
              "      <td>na</td>\n",
              "      <td>na</td>\n",
              "      <td>na</td>\n",
              "      <td>na</td>\n",
              "      <td>NaN</td>\n",
              "      <td>NaN</td>\n",
              "      <td>Not a Pedestrian</td>\n",
              "      <td>Moving Backward</td>\n",
              "      <td>Slight Injury</td>\n",
              "    </tr>\n",
              "    <tr>\n",
              "      <th>1</th>\n",
              "      <td>17:02:00</td>\n",
              "      <td>Monday</td>\n",
              "      <td>31-50</td>\n",
              "      <td>Male</td>\n",
              "      <td>Junior high school</td>\n",
              "      <td>Employee</td>\n",
              "      <td>Above 10yr</td>\n",
              "      <td>Public (&gt; 45 seats)</td>\n",
              "      <td>Owner</td>\n",
              "      <td>5-10yrs</td>\n",
              "      <td>...</td>\n",
              "      <td>Going straight</td>\n",
              "      <td>na</td>\n",
              "      <td>na</td>\n",
              "      <td>na</td>\n",
              "      <td>na</td>\n",
              "      <td>NaN</td>\n",
              "      <td>NaN</td>\n",
              "      <td>Not a Pedestrian</td>\n",
              "      <td>Overtaking</td>\n",
              "      <td>Slight Injury</td>\n",
              "    </tr>\n",
              "    <tr>\n",
              "      <th>2</th>\n",
              "      <td>17:02:00</td>\n",
              "      <td>Monday</td>\n",
              "      <td>18-30</td>\n",
              "      <td>Male</td>\n",
              "      <td>Junior high school</td>\n",
              "      <td>Employee</td>\n",
              "      <td>1-2yr</td>\n",
              "      <td>Lorry (41?100Q)</td>\n",
              "      <td>Owner</td>\n",
              "      <td>NaN</td>\n",
              "      <td>...</td>\n",
              "      <td>Going straight</td>\n",
              "      <td>Driver or rider</td>\n",
              "      <td>Male</td>\n",
              "      <td>31-50</td>\n",
              "      <td>3</td>\n",
              "      <td>Driver</td>\n",
              "      <td>NaN</td>\n",
              "      <td>Not a Pedestrian</td>\n",
              "      <td>Changing lane to the left</td>\n",
              "      <td>Serious Injury</td>\n",
              "    </tr>\n",
              "    <tr>\n",
              "      <th>3</th>\n",
              "      <td>1:06:00</td>\n",
              "      <td>Sunday</td>\n",
              "      <td>18-30</td>\n",
              "      <td>Male</td>\n",
              "      <td>Junior high school</td>\n",
              "      <td>Employee</td>\n",
              "      <td>5-10yr</td>\n",
              "      <td>Public (&gt; 45 seats)</td>\n",
              "      <td>Governmental</td>\n",
              "      <td>NaN</td>\n",
              "      <td>...</td>\n",
              "      <td>Going straight</td>\n",
              "      <td>Pedestrian</td>\n",
              "      <td>Female</td>\n",
              "      <td>18-30</td>\n",
              "      <td>3</td>\n",
              "      <td>Driver</td>\n",
              "      <td>Normal</td>\n",
              "      <td>Not a Pedestrian</td>\n",
              "      <td>Changing lane to the right</td>\n",
              "      <td>Slight Injury</td>\n",
              "    </tr>\n",
              "    <tr>\n",
              "      <th>4</th>\n",
              "      <td>1:06:00</td>\n",
              "      <td>Sunday</td>\n",
              "      <td>18-30</td>\n",
              "      <td>Male</td>\n",
              "      <td>Junior high school</td>\n",
              "      <td>Employee</td>\n",
              "      <td>2-5yr</td>\n",
              "      <td>NaN</td>\n",
              "      <td>Owner</td>\n",
              "      <td>5-10yrs</td>\n",
              "      <td>...</td>\n",
              "      <td>Going straight</td>\n",
              "      <td>na</td>\n",
              "      <td>na</td>\n",
              "      <td>na</td>\n",
              "      <td>na</td>\n",
              "      <td>NaN</td>\n",
              "      <td>NaN</td>\n",
              "      <td>Not a Pedestrian</td>\n",
              "      <td>Overtaking</td>\n",
              "      <td>Slight Injury</td>\n",
              "    </tr>\n",
              "    <tr>\n",
              "      <th>...</th>\n",
              "      <td>...</td>\n",
              "      <td>...</td>\n",
              "      <td>...</td>\n",
              "      <td>...</td>\n",
              "      <td>...</td>\n",
              "      <td>...</td>\n",
              "      <td>...</td>\n",
              "      <td>...</td>\n",
              "      <td>...</td>\n",
              "      <td>...</td>\n",
              "      <td>...</td>\n",
              "      <td>...</td>\n",
              "      <td>...</td>\n",
              "      <td>...</td>\n",
              "      <td>...</td>\n",
              "      <td>...</td>\n",
              "      <td>...</td>\n",
              "      <td>...</td>\n",
              "      <td>...</td>\n",
              "      <td>...</td>\n",
              "      <td>...</td>\n",
              "    </tr>\n",
              "    <tr>\n",
              "      <th>12311</th>\n",
              "      <td>16:15:00</td>\n",
              "      <td>Wednesday</td>\n",
              "      <td>31-50</td>\n",
              "      <td>Male</td>\n",
              "      <td>NaN</td>\n",
              "      <td>Employee</td>\n",
              "      <td>2-5yr</td>\n",
              "      <td>Lorry (11?40Q)</td>\n",
              "      <td>Owner</td>\n",
              "      <td>NaN</td>\n",
              "      <td>...</td>\n",
              "      <td>Going straight</td>\n",
              "      <td>na</td>\n",
              "      <td>na</td>\n",
              "      <td>na</td>\n",
              "      <td>na</td>\n",
              "      <td>Driver</td>\n",
              "      <td>Normal</td>\n",
              "      <td>Not a Pedestrian</td>\n",
              "      <td>No distancing</td>\n",
              "      <td>Slight Injury</td>\n",
              "    </tr>\n",
              "    <tr>\n",
              "      <th>12312</th>\n",
              "      <td>18:00:00</td>\n",
              "      <td>Sunday</td>\n",
              "      <td>Unknown</td>\n",
              "      <td>Male</td>\n",
              "      <td>Elementary school</td>\n",
              "      <td>Employee</td>\n",
              "      <td>5-10yr</td>\n",
              "      <td>Automobile</td>\n",
              "      <td>Owner</td>\n",
              "      <td>NaN</td>\n",
              "      <td>...</td>\n",
              "      <td>Other</td>\n",
              "      <td>na</td>\n",
              "      <td>na</td>\n",
              "      <td>na</td>\n",
              "      <td>na</td>\n",
              "      <td>Driver</td>\n",
              "      <td>Normal</td>\n",
              "      <td>Not a Pedestrian</td>\n",
              "      <td>No distancing</td>\n",
              "      <td>Slight Injury</td>\n",
              "    </tr>\n",
              "    <tr>\n",
              "      <th>12313</th>\n",
              "      <td>13:55:00</td>\n",
              "      <td>Sunday</td>\n",
              "      <td>Over 51</td>\n",
              "      <td>Male</td>\n",
              "      <td>Junior high school</td>\n",
              "      <td>Employee</td>\n",
              "      <td>5-10yr</td>\n",
              "      <td>Bajaj</td>\n",
              "      <td>Owner</td>\n",
              "      <td>2-5yrs</td>\n",
              "      <td>...</td>\n",
              "      <td>Other</td>\n",
              "      <td>Driver or rider</td>\n",
              "      <td>Male</td>\n",
              "      <td>31-50</td>\n",
              "      <td>3</td>\n",
              "      <td>Driver</td>\n",
              "      <td>Normal</td>\n",
              "      <td>Not a Pedestrian</td>\n",
              "      <td>Changing lane to the right</td>\n",
              "      <td>Serious Injury</td>\n",
              "    </tr>\n",
              "    <tr>\n",
              "      <th>12314</th>\n",
              "      <td>13:55:00</td>\n",
              "      <td>Sunday</td>\n",
              "      <td>18-30</td>\n",
              "      <td>Female</td>\n",
              "      <td>Junior high school</td>\n",
              "      <td>Employee</td>\n",
              "      <td>Above 10yr</td>\n",
              "      <td>Lorry (41?100Q)</td>\n",
              "      <td>Owner</td>\n",
              "      <td>2-5yrs</td>\n",
              "      <td>...</td>\n",
              "      <td>Other</td>\n",
              "      <td>na</td>\n",
              "      <td>na</td>\n",
              "      <td>na</td>\n",
              "      <td>na</td>\n",
              "      <td>Driver</td>\n",
              "      <td>Normal</td>\n",
              "      <td>Not a Pedestrian</td>\n",
              "      <td>Driving under the influence of drugs</td>\n",
              "      <td>Slight Injury</td>\n",
              "    </tr>\n",
              "    <tr>\n",
              "      <th>12315</th>\n",
              "      <td>13:55:00</td>\n",
              "      <td>Sunday</td>\n",
              "      <td>18-30</td>\n",
              "      <td>Male</td>\n",
              "      <td>Junior high school</td>\n",
              "      <td>Employee</td>\n",
              "      <td>5-10yr</td>\n",
              "      <td>Other</td>\n",
              "      <td>Owner</td>\n",
              "      <td>2-5yrs</td>\n",
              "      <td>...</td>\n",
              "      <td>Stopping</td>\n",
              "      <td>Pedestrian</td>\n",
              "      <td>Female</td>\n",
              "      <td>5</td>\n",
              "      <td>3</td>\n",
              "      <td>Driver</td>\n",
              "      <td>Normal</td>\n",
              "      <td>Crossing from nearside - masked by parked or s...</td>\n",
              "      <td>Changing lane to the right</td>\n",
              "      <td>Slight Injury</td>\n",
              "    </tr>\n",
              "  </tbody>\n",
              "</table>\n",
              "<p>12316 rows × 32 columns</p>\n",
              "</div>\n",
              "      <button class=\"colab-df-convert\" onclick=\"convertToInteractive('df-ee6f1c6e-666c-4658-928d-eeff1baa54ea')\"\n",
              "              title=\"Convert this dataframe to an interactive table.\"\n",
              "              style=\"display:none;\">\n",
              "        \n",
              "  <svg xmlns=\"http://www.w3.org/2000/svg\" height=\"24px\"viewBox=\"0 0 24 24\"\n",
              "       width=\"24px\">\n",
              "    <path d=\"M0 0h24v24H0V0z\" fill=\"none\"/>\n",
              "    <path d=\"M18.56 5.44l.94 2.06.94-2.06 2.06-.94-2.06-.94-.94-2.06-.94 2.06-2.06.94zm-11 1L8.5 8.5l.94-2.06 2.06-.94-2.06-.94L8.5 2.5l-.94 2.06-2.06.94zm10 10l.94 2.06.94-2.06 2.06-.94-2.06-.94-.94-2.06-.94 2.06-2.06.94z\"/><path d=\"M17.41 7.96l-1.37-1.37c-.4-.4-.92-.59-1.43-.59-.52 0-1.04.2-1.43.59L10.3 9.45l-7.72 7.72c-.78.78-.78 2.05 0 2.83L4 21.41c.39.39.9.59 1.41.59.51 0 1.02-.2 1.41-.59l7.78-7.78 2.81-2.81c.8-.78.8-2.07 0-2.86zM5.41 20L4 18.59l7.72-7.72 1.47 1.35L5.41 20z\"/>\n",
              "  </svg>\n",
              "      </button>\n",
              "      \n",
              "  <style>\n",
              "    .colab-df-container {\n",
              "      display:flex;\n",
              "      flex-wrap:wrap;\n",
              "      gap: 12px;\n",
              "    }\n",
              "\n",
              "    .colab-df-convert {\n",
              "      background-color: #E8F0FE;\n",
              "      border: none;\n",
              "      border-radius: 50%;\n",
              "      cursor: pointer;\n",
              "      display: none;\n",
              "      fill: #1967D2;\n",
              "      height: 32px;\n",
              "      padding: 0 0 0 0;\n",
              "      width: 32px;\n",
              "    }\n",
              "\n",
              "    .colab-df-convert:hover {\n",
              "      background-color: #E2EBFA;\n",
              "      box-shadow: 0px 1px 2px rgba(60, 64, 67, 0.3), 0px 1px 3px 1px rgba(60, 64, 67, 0.15);\n",
              "      fill: #174EA6;\n",
              "    }\n",
              "\n",
              "    [theme=dark] .colab-df-convert {\n",
              "      background-color: #3B4455;\n",
              "      fill: #D2E3FC;\n",
              "    }\n",
              "\n",
              "    [theme=dark] .colab-df-convert:hover {\n",
              "      background-color: #434B5C;\n",
              "      box-shadow: 0px 1px 3px 1px rgba(0, 0, 0, 0.15);\n",
              "      filter: drop-shadow(0px 1px 2px rgba(0, 0, 0, 0.3));\n",
              "      fill: #FFFFFF;\n",
              "    }\n",
              "  </style>\n",
              "\n",
              "      <script>\n",
              "        const buttonEl =\n",
              "          document.querySelector('#df-ee6f1c6e-666c-4658-928d-eeff1baa54ea button.colab-df-convert');\n",
              "        buttonEl.style.display =\n",
              "          google.colab.kernel.accessAllowed ? 'block' : 'none';\n",
              "\n",
              "        async function convertToInteractive(key) {\n",
              "          const element = document.querySelector('#df-ee6f1c6e-666c-4658-928d-eeff1baa54ea');\n",
              "          const dataTable =\n",
              "            await google.colab.kernel.invokeFunction('convertToInteractive',\n",
              "                                                     [key], {});\n",
              "          if (!dataTable) return;\n",
              "\n",
              "          const docLinkHtml = 'Like what you see? Visit the ' +\n",
              "            '<a target=\"_blank\" href=https://colab.research.google.com/notebooks/data_table.ipynb>data table notebook</a>'\n",
              "            + ' to learn more about interactive tables.';\n",
              "          element.innerHTML = '';\n",
              "          dataTable['output_type'] = 'display_data';\n",
              "          await google.colab.output.renderOutput(dataTable, element);\n",
              "          const docLink = document.createElement('div');\n",
              "          docLink.innerHTML = docLinkHtml;\n",
              "          element.appendChild(docLink);\n",
              "        }\n",
              "      </script>\n",
              "    </div>\n",
              "  </div>\n",
              "  "
            ]
          },
          "metadata": {},
          "execution_count": 66
        }
      ],
      "source": [
        "import numpy as np\n",
        "import pandas as pd\n",
        "import matplotlib.pyplot as plt\n",
        "import seaborn as sns\n",
        "df=pd.read_csv(\"/content/RTA Dataset.csv\")\n",
        "df"
      ]
    },
    {
      "cell_type": "code",
      "source": [
        "df.columns"
      ],
      "metadata": {
        "colab": {
          "base_uri": "https://localhost:8080/"
        },
        "id": "jSHjH5w9E2Vq",
        "outputId": "d5f11ea7-0a10-4217-fdc8-70615ff30fd0"
      },
      "execution_count": null,
      "outputs": [
        {
          "output_type": "execute_result",
          "data": {
            "text/plain": [
              "Index(['Time', 'Day_of_week', 'Age_band_of_driver', 'Sex_of_driver',\n",
              "       'Educational_level', 'Vehicle_driver_relation', 'Driving_experience',\n",
              "       'Type_of_vehicle', 'Owner_of_vehicle', 'Service_year_of_vehicle',\n",
              "       'Defect_of_vehicle', 'Area_accident_occured', 'Lanes_or_Medians',\n",
              "       'Road_allignment', 'Types_of_Junction', 'Road_surface_type',\n",
              "       'Road_surface_conditions', 'Light_conditions', 'Weather_conditions',\n",
              "       'Type_of_collision', 'Number_of_vehicles_involved',\n",
              "       'Number_of_casualties', 'Vehicle_movement', 'Casualty_class',\n",
              "       'Sex_of_casualty', 'Age_band_of_casualty', 'Casualty_severity',\n",
              "       'Work_of_casuality', 'Fitness_of_casuality', 'Pedestrian_movement',\n",
              "       'Cause_of_accident', 'Accident_severity'],\n",
              "      dtype='object')"
            ]
          },
          "metadata": {},
          "execution_count": 67
        }
      ]
    },
    {
      "cell_type": "code",
      "source": [
        "df.describe()"
      ],
      "metadata": {
        "colab": {
          "base_uri": "https://localhost:8080/",
          "height": 300
        },
        "id": "2nawBrRkE8yq",
        "outputId": "afe694a1-53a3-4de7-85cd-84c3a30c3573"
      },
      "execution_count": null,
      "outputs": [
        {
          "output_type": "execute_result",
          "data": {
            "text/plain": [
              "       Number_of_vehicles_involved  Number_of_casualties\n",
              "count                 12316.000000          12316.000000\n",
              "mean                      2.040679              1.548149\n",
              "std                       0.688790              1.007179\n",
              "min                       1.000000              1.000000\n",
              "25%                       2.000000              1.000000\n",
              "50%                       2.000000              1.000000\n",
              "75%                       2.000000              2.000000\n",
              "max                       7.000000              8.000000"
            ],
            "text/html": [
              "\n",
              "  <div id=\"df-6f0c5321-e3fa-485b-ac58-c6c8d801eae6\">\n",
              "    <div class=\"colab-df-container\">\n",
              "      <div>\n",
              "<style scoped>\n",
              "    .dataframe tbody tr th:only-of-type {\n",
              "        vertical-align: middle;\n",
              "    }\n",
              "\n",
              "    .dataframe tbody tr th {\n",
              "        vertical-align: top;\n",
              "    }\n",
              "\n",
              "    .dataframe thead th {\n",
              "        text-align: right;\n",
              "    }\n",
              "</style>\n",
              "<table border=\"1\" class=\"dataframe\">\n",
              "  <thead>\n",
              "    <tr style=\"text-align: right;\">\n",
              "      <th></th>\n",
              "      <th>Number_of_vehicles_involved</th>\n",
              "      <th>Number_of_casualties</th>\n",
              "    </tr>\n",
              "  </thead>\n",
              "  <tbody>\n",
              "    <tr>\n",
              "      <th>count</th>\n",
              "      <td>12316.000000</td>\n",
              "      <td>12316.000000</td>\n",
              "    </tr>\n",
              "    <tr>\n",
              "      <th>mean</th>\n",
              "      <td>2.040679</td>\n",
              "      <td>1.548149</td>\n",
              "    </tr>\n",
              "    <tr>\n",
              "      <th>std</th>\n",
              "      <td>0.688790</td>\n",
              "      <td>1.007179</td>\n",
              "    </tr>\n",
              "    <tr>\n",
              "      <th>min</th>\n",
              "      <td>1.000000</td>\n",
              "      <td>1.000000</td>\n",
              "    </tr>\n",
              "    <tr>\n",
              "      <th>25%</th>\n",
              "      <td>2.000000</td>\n",
              "      <td>1.000000</td>\n",
              "    </tr>\n",
              "    <tr>\n",
              "      <th>50%</th>\n",
              "      <td>2.000000</td>\n",
              "      <td>1.000000</td>\n",
              "    </tr>\n",
              "    <tr>\n",
              "      <th>75%</th>\n",
              "      <td>2.000000</td>\n",
              "      <td>2.000000</td>\n",
              "    </tr>\n",
              "    <tr>\n",
              "      <th>max</th>\n",
              "      <td>7.000000</td>\n",
              "      <td>8.000000</td>\n",
              "    </tr>\n",
              "  </tbody>\n",
              "</table>\n",
              "</div>\n",
              "      <button class=\"colab-df-convert\" onclick=\"convertToInteractive('df-6f0c5321-e3fa-485b-ac58-c6c8d801eae6')\"\n",
              "              title=\"Convert this dataframe to an interactive table.\"\n",
              "              style=\"display:none;\">\n",
              "        \n",
              "  <svg xmlns=\"http://www.w3.org/2000/svg\" height=\"24px\"viewBox=\"0 0 24 24\"\n",
              "       width=\"24px\">\n",
              "    <path d=\"M0 0h24v24H0V0z\" fill=\"none\"/>\n",
              "    <path d=\"M18.56 5.44l.94 2.06.94-2.06 2.06-.94-2.06-.94-.94-2.06-.94 2.06-2.06.94zm-11 1L8.5 8.5l.94-2.06 2.06-.94-2.06-.94L8.5 2.5l-.94 2.06-2.06.94zm10 10l.94 2.06.94-2.06 2.06-.94-2.06-.94-.94-2.06-.94 2.06-2.06.94z\"/><path d=\"M17.41 7.96l-1.37-1.37c-.4-.4-.92-.59-1.43-.59-.52 0-1.04.2-1.43.59L10.3 9.45l-7.72 7.72c-.78.78-.78 2.05 0 2.83L4 21.41c.39.39.9.59 1.41.59.51 0 1.02-.2 1.41-.59l7.78-7.78 2.81-2.81c.8-.78.8-2.07 0-2.86zM5.41 20L4 18.59l7.72-7.72 1.47 1.35L5.41 20z\"/>\n",
              "  </svg>\n",
              "      </button>\n",
              "      \n",
              "  <style>\n",
              "    .colab-df-container {\n",
              "      display:flex;\n",
              "      flex-wrap:wrap;\n",
              "      gap: 12px;\n",
              "    }\n",
              "\n",
              "    .colab-df-convert {\n",
              "      background-color: #E8F0FE;\n",
              "      border: none;\n",
              "      border-radius: 50%;\n",
              "      cursor: pointer;\n",
              "      display: none;\n",
              "      fill: #1967D2;\n",
              "      height: 32px;\n",
              "      padding: 0 0 0 0;\n",
              "      width: 32px;\n",
              "    }\n",
              "\n",
              "    .colab-df-convert:hover {\n",
              "      background-color: #E2EBFA;\n",
              "      box-shadow: 0px 1px 2px rgba(60, 64, 67, 0.3), 0px 1px 3px 1px rgba(60, 64, 67, 0.15);\n",
              "      fill: #174EA6;\n",
              "    }\n",
              "\n",
              "    [theme=dark] .colab-df-convert {\n",
              "      background-color: #3B4455;\n",
              "      fill: #D2E3FC;\n",
              "    }\n",
              "\n",
              "    [theme=dark] .colab-df-convert:hover {\n",
              "      background-color: #434B5C;\n",
              "      box-shadow: 0px 1px 3px 1px rgba(0, 0, 0, 0.15);\n",
              "      filter: drop-shadow(0px 1px 2px rgba(0, 0, 0, 0.3));\n",
              "      fill: #FFFFFF;\n",
              "    }\n",
              "  </style>\n",
              "\n",
              "      <script>\n",
              "        const buttonEl =\n",
              "          document.querySelector('#df-6f0c5321-e3fa-485b-ac58-c6c8d801eae6 button.colab-df-convert');\n",
              "        buttonEl.style.display =\n",
              "          google.colab.kernel.accessAllowed ? 'block' : 'none';\n",
              "\n",
              "        async function convertToInteractive(key) {\n",
              "          const element = document.querySelector('#df-6f0c5321-e3fa-485b-ac58-c6c8d801eae6');\n",
              "          const dataTable =\n",
              "            await google.colab.kernel.invokeFunction('convertToInteractive',\n",
              "                                                     [key], {});\n",
              "          if (!dataTable) return;\n",
              "\n",
              "          const docLinkHtml = 'Like what you see? Visit the ' +\n",
              "            '<a target=\"_blank\" href=https://colab.research.google.com/notebooks/data_table.ipynb>data table notebook</a>'\n",
              "            + ' to learn more about interactive tables.';\n",
              "          element.innerHTML = '';\n",
              "          dataTable['output_type'] = 'display_data';\n",
              "          await google.colab.output.renderOutput(dataTable, element);\n",
              "          const docLink = document.createElement('div');\n",
              "          docLink.innerHTML = docLinkHtml;\n",
              "          element.appendChild(docLink);\n",
              "        }\n",
              "      </script>\n",
              "    </div>\n",
              "  </div>\n",
              "  "
            ]
          },
          "metadata": {},
          "execution_count": 68
        }
      ]
    },
    {
      "cell_type": "code",
      "source": [
        "df.info()"
      ],
      "metadata": {
        "colab": {
          "base_uri": "https://localhost:8080/"
        },
        "id": "EBwUGU4hE_I4",
        "outputId": "c6c8a61f-b170-4063-a048-b8c9b8649ada"
      },
      "execution_count": null,
      "outputs": [
        {
          "output_type": "stream",
          "name": "stdout",
          "text": [
            "<class 'pandas.core.frame.DataFrame'>\n",
            "RangeIndex: 12316 entries, 0 to 12315\n",
            "Data columns (total 32 columns):\n",
            " #   Column                       Non-Null Count  Dtype \n",
            "---  ------                       --------------  ----- \n",
            " 0   Time                         12316 non-null  object\n",
            " 1   Day_of_week                  12316 non-null  object\n",
            " 2   Age_band_of_driver           12316 non-null  object\n",
            " 3   Sex_of_driver                12316 non-null  object\n",
            " 4   Educational_level            11575 non-null  object\n",
            " 5   Vehicle_driver_relation      11737 non-null  object\n",
            " 6   Driving_experience           11487 non-null  object\n",
            " 7   Type_of_vehicle              11366 non-null  object\n",
            " 8   Owner_of_vehicle             11834 non-null  object\n",
            " 9   Service_year_of_vehicle      8388 non-null   object\n",
            " 10  Defect_of_vehicle            7889 non-null   object\n",
            " 11  Area_accident_occured        12077 non-null  object\n",
            " 12  Lanes_or_Medians             11931 non-null  object\n",
            " 13  Road_allignment              12174 non-null  object\n",
            " 14  Types_of_Junction            11429 non-null  object\n",
            " 15  Road_surface_type            12144 non-null  object\n",
            " 16  Road_surface_conditions      12316 non-null  object\n",
            " 17  Light_conditions             12316 non-null  object\n",
            " 18  Weather_conditions           12316 non-null  object\n",
            " 19  Type_of_collision            12161 non-null  object\n",
            " 20  Number_of_vehicles_involved  12316 non-null  int64 \n",
            " 21  Number_of_casualties         12316 non-null  int64 \n",
            " 22  Vehicle_movement             12008 non-null  object\n",
            " 23  Casualty_class               12316 non-null  object\n",
            " 24  Sex_of_casualty              12316 non-null  object\n",
            " 25  Age_band_of_casualty         12316 non-null  object\n",
            " 26  Casualty_severity            12316 non-null  object\n",
            " 27  Work_of_casuality            9118 non-null   object\n",
            " 28  Fitness_of_casuality         9681 non-null   object\n",
            " 29  Pedestrian_movement          12316 non-null  object\n",
            " 30  Cause_of_accident            12316 non-null  object\n",
            " 31  Accident_severity            12316 non-null  object\n",
            "dtypes: int64(2), object(30)\n",
            "memory usage: 3.0+ MB\n"
          ]
        }
      ]
    },
    {
      "cell_type": "code",
      "source": [
        "df.head()"
      ],
      "metadata": {
        "colab": {
          "base_uri": "https://localhost:8080/",
          "height": 351
        },
        "id": "TkoHYvfKFCID",
        "outputId": "870482bf-3e13-43f1-ca2a-aa4e52d3fe5a"
      },
      "execution_count": null,
      "outputs": [
        {
          "output_type": "execute_result",
          "data": {
            "text/plain": [
              "       Time Day_of_week Age_band_of_driver Sex_of_driver   Educational_level  \\\n",
              "0  17:02:00      Monday              18-30          Male   Above high school   \n",
              "1  17:02:00      Monday              31-50          Male  Junior high school   \n",
              "2  17:02:00      Monday              18-30          Male  Junior high school   \n",
              "3   1:06:00      Sunday              18-30          Male  Junior high school   \n",
              "4   1:06:00      Sunday              18-30          Male  Junior high school   \n",
              "\n",
              "  Vehicle_driver_relation Driving_experience      Type_of_vehicle  \\\n",
              "0                Employee              1-2yr           Automobile   \n",
              "1                Employee         Above 10yr  Public (> 45 seats)   \n",
              "2                Employee              1-2yr      Lorry (41?100Q)   \n",
              "3                Employee             5-10yr  Public (> 45 seats)   \n",
              "4                Employee              2-5yr                  NaN   \n",
              "\n",
              "  Owner_of_vehicle Service_year_of_vehicle  ... Vehicle_movement  \\\n",
              "0            Owner              Above 10yr  ...   Going straight   \n",
              "1            Owner                 5-10yrs  ...   Going straight   \n",
              "2            Owner                     NaN  ...   Going straight   \n",
              "3     Governmental                     NaN  ...   Going straight   \n",
              "4            Owner                 5-10yrs  ...   Going straight   \n",
              "\n",
              "    Casualty_class Sex_of_casualty Age_band_of_casualty Casualty_severity  \\\n",
              "0               na              na                   na                na   \n",
              "1               na              na                   na                na   \n",
              "2  Driver or rider            Male                31-50                 3   \n",
              "3       Pedestrian          Female                18-30                 3   \n",
              "4               na              na                   na                na   \n",
              "\n",
              "  Work_of_casuality Fitness_of_casuality Pedestrian_movement  \\\n",
              "0               NaN                  NaN    Not a Pedestrian   \n",
              "1               NaN                  NaN    Not a Pedestrian   \n",
              "2            Driver                  NaN    Not a Pedestrian   \n",
              "3            Driver               Normal    Not a Pedestrian   \n",
              "4               NaN                  NaN    Not a Pedestrian   \n",
              "\n",
              "            Cause_of_accident Accident_severity  \n",
              "0             Moving Backward     Slight Injury  \n",
              "1                  Overtaking     Slight Injury  \n",
              "2   Changing lane to the left    Serious Injury  \n",
              "3  Changing lane to the right     Slight Injury  \n",
              "4                  Overtaking     Slight Injury  \n",
              "\n",
              "[5 rows x 32 columns]"
            ],
            "text/html": [
              "\n",
              "  <div id=\"df-23ba5e0b-a546-4747-80b6-0fdb760e6fb8\">\n",
              "    <div class=\"colab-df-container\">\n",
              "      <div>\n",
              "<style scoped>\n",
              "    .dataframe tbody tr th:only-of-type {\n",
              "        vertical-align: middle;\n",
              "    }\n",
              "\n",
              "    .dataframe tbody tr th {\n",
              "        vertical-align: top;\n",
              "    }\n",
              "\n",
              "    .dataframe thead th {\n",
              "        text-align: right;\n",
              "    }\n",
              "</style>\n",
              "<table border=\"1\" class=\"dataframe\">\n",
              "  <thead>\n",
              "    <tr style=\"text-align: right;\">\n",
              "      <th></th>\n",
              "      <th>Time</th>\n",
              "      <th>Day_of_week</th>\n",
              "      <th>Age_band_of_driver</th>\n",
              "      <th>Sex_of_driver</th>\n",
              "      <th>Educational_level</th>\n",
              "      <th>Vehicle_driver_relation</th>\n",
              "      <th>Driving_experience</th>\n",
              "      <th>Type_of_vehicle</th>\n",
              "      <th>Owner_of_vehicle</th>\n",
              "      <th>Service_year_of_vehicle</th>\n",
              "      <th>...</th>\n",
              "      <th>Vehicle_movement</th>\n",
              "      <th>Casualty_class</th>\n",
              "      <th>Sex_of_casualty</th>\n",
              "      <th>Age_band_of_casualty</th>\n",
              "      <th>Casualty_severity</th>\n",
              "      <th>Work_of_casuality</th>\n",
              "      <th>Fitness_of_casuality</th>\n",
              "      <th>Pedestrian_movement</th>\n",
              "      <th>Cause_of_accident</th>\n",
              "      <th>Accident_severity</th>\n",
              "    </tr>\n",
              "  </thead>\n",
              "  <tbody>\n",
              "    <tr>\n",
              "      <th>0</th>\n",
              "      <td>17:02:00</td>\n",
              "      <td>Monday</td>\n",
              "      <td>18-30</td>\n",
              "      <td>Male</td>\n",
              "      <td>Above high school</td>\n",
              "      <td>Employee</td>\n",
              "      <td>1-2yr</td>\n",
              "      <td>Automobile</td>\n",
              "      <td>Owner</td>\n",
              "      <td>Above 10yr</td>\n",
              "      <td>...</td>\n",
              "      <td>Going straight</td>\n",
              "      <td>na</td>\n",
              "      <td>na</td>\n",
              "      <td>na</td>\n",
              "      <td>na</td>\n",
              "      <td>NaN</td>\n",
              "      <td>NaN</td>\n",
              "      <td>Not a Pedestrian</td>\n",
              "      <td>Moving Backward</td>\n",
              "      <td>Slight Injury</td>\n",
              "    </tr>\n",
              "    <tr>\n",
              "      <th>1</th>\n",
              "      <td>17:02:00</td>\n",
              "      <td>Monday</td>\n",
              "      <td>31-50</td>\n",
              "      <td>Male</td>\n",
              "      <td>Junior high school</td>\n",
              "      <td>Employee</td>\n",
              "      <td>Above 10yr</td>\n",
              "      <td>Public (&gt; 45 seats)</td>\n",
              "      <td>Owner</td>\n",
              "      <td>5-10yrs</td>\n",
              "      <td>...</td>\n",
              "      <td>Going straight</td>\n",
              "      <td>na</td>\n",
              "      <td>na</td>\n",
              "      <td>na</td>\n",
              "      <td>na</td>\n",
              "      <td>NaN</td>\n",
              "      <td>NaN</td>\n",
              "      <td>Not a Pedestrian</td>\n",
              "      <td>Overtaking</td>\n",
              "      <td>Slight Injury</td>\n",
              "    </tr>\n",
              "    <tr>\n",
              "      <th>2</th>\n",
              "      <td>17:02:00</td>\n",
              "      <td>Monday</td>\n",
              "      <td>18-30</td>\n",
              "      <td>Male</td>\n",
              "      <td>Junior high school</td>\n",
              "      <td>Employee</td>\n",
              "      <td>1-2yr</td>\n",
              "      <td>Lorry (41?100Q)</td>\n",
              "      <td>Owner</td>\n",
              "      <td>NaN</td>\n",
              "      <td>...</td>\n",
              "      <td>Going straight</td>\n",
              "      <td>Driver or rider</td>\n",
              "      <td>Male</td>\n",
              "      <td>31-50</td>\n",
              "      <td>3</td>\n",
              "      <td>Driver</td>\n",
              "      <td>NaN</td>\n",
              "      <td>Not a Pedestrian</td>\n",
              "      <td>Changing lane to the left</td>\n",
              "      <td>Serious Injury</td>\n",
              "    </tr>\n",
              "    <tr>\n",
              "      <th>3</th>\n",
              "      <td>1:06:00</td>\n",
              "      <td>Sunday</td>\n",
              "      <td>18-30</td>\n",
              "      <td>Male</td>\n",
              "      <td>Junior high school</td>\n",
              "      <td>Employee</td>\n",
              "      <td>5-10yr</td>\n",
              "      <td>Public (&gt; 45 seats)</td>\n",
              "      <td>Governmental</td>\n",
              "      <td>NaN</td>\n",
              "      <td>...</td>\n",
              "      <td>Going straight</td>\n",
              "      <td>Pedestrian</td>\n",
              "      <td>Female</td>\n",
              "      <td>18-30</td>\n",
              "      <td>3</td>\n",
              "      <td>Driver</td>\n",
              "      <td>Normal</td>\n",
              "      <td>Not a Pedestrian</td>\n",
              "      <td>Changing lane to the right</td>\n",
              "      <td>Slight Injury</td>\n",
              "    </tr>\n",
              "    <tr>\n",
              "      <th>4</th>\n",
              "      <td>1:06:00</td>\n",
              "      <td>Sunday</td>\n",
              "      <td>18-30</td>\n",
              "      <td>Male</td>\n",
              "      <td>Junior high school</td>\n",
              "      <td>Employee</td>\n",
              "      <td>2-5yr</td>\n",
              "      <td>NaN</td>\n",
              "      <td>Owner</td>\n",
              "      <td>5-10yrs</td>\n",
              "      <td>...</td>\n",
              "      <td>Going straight</td>\n",
              "      <td>na</td>\n",
              "      <td>na</td>\n",
              "      <td>na</td>\n",
              "      <td>na</td>\n",
              "      <td>NaN</td>\n",
              "      <td>NaN</td>\n",
              "      <td>Not a Pedestrian</td>\n",
              "      <td>Overtaking</td>\n",
              "      <td>Slight Injury</td>\n",
              "    </tr>\n",
              "  </tbody>\n",
              "</table>\n",
              "<p>5 rows × 32 columns</p>\n",
              "</div>\n",
              "      <button class=\"colab-df-convert\" onclick=\"convertToInteractive('df-23ba5e0b-a546-4747-80b6-0fdb760e6fb8')\"\n",
              "              title=\"Convert this dataframe to an interactive table.\"\n",
              "              style=\"display:none;\">\n",
              "        \n",
              "  <svg xmlns=\"http://www.w3.org/2000/svg\" height=\"24px\"viewBox=\"0 0 24 24\"\n",
              "       width=\"24px\">\n",
              "    <path d=\"M0 0h24v24H0V0z\" fill=\"none\"/>\n",
              "    <path d=\"M18.56 5.44l.94 2.06.94-2.06 2.06-.94-2.06-.94-.94-2.06-.94 2.06-2.06.94zm-11 1L8.5 8.5l.94-2.06 2.06-.94-2.06-.94L8.5 2.5l-.94 2.06-2.06.94zm10 10l.94 2.06.94-2.06 2.06-.94-2.06-.94-.94-2.06-.94 2.06-2.06.94z\"/><path d=\"M17.41 7.96l-1.37-1.37c-.4-.4-.92-.59-1.43-.59-.52 0-1.04.2-1.43.59L10.3 9.45l-7.72 7.72c-.78.78-.78 2.05 0 2.83L4 21.41c.39.39.9.59 1.41.59.51 0 1.02-.2 1.41-.59l7.78-7.78 2.81-2.81c.8-.78.8-2.07 0-2.86zM5.41 20L4 18.59l7.72-7.72 1.47 1.35L5.41 20z\"/>\n",
              "  </svg>\n",
              "      </button>\n",
              "      \n",
              "  <style>\n",
              "    .colab-df-container {\n",
              "      display:flex;\n",
              "      flex-wrap:wrap;\n",
              "      gap: 12px;\n",
              "    }\n",
              "\n",
              "    .colab-df-convert {\n",
              "      background-color: #E8F0FE;\n",
              "      border: none;\n",
              "      border-radius: 50%;\n",
              "      cursor: pointer;\n",
              "      display: none;\n",
              "      fill: #1967D2;\n",
              "      height: 32px;\n",
              "      padding: 0 0 0 0;\n",
              "      width: 32px;\n",
              "    }\n",
              "\n",
              "    .colab-df-convert:hover {\n",
              "      background-color: #E2EBFA;\n",
              "      box-shadow: 0px 1px 2px rgba(60, 64, 67, 0.3), 0px 1px 3px 1px rgba(60, 64, 67, 0.15);\n",
              "      fill: #174EA6;\n",
              "    }\n",
              "\n",
              "    [theme=dark] .colab-df-convert {\n",
              "      background-color: #3B4455;\n",
              "      fill: #D2E3FC;\n",
              "    }\n",
              "\n",
              "    [theme=dark] .colab-df-convert:hover {\n",
              "      background-color: #434B5C;\n",
              "      box-shadow: 0px 1px 3px 1px rgba(0, 0, 0, 0.15);\n",
              "      filter: drop-shadow(0px 1px 2px rgba(0, 0, 0, 0.3));\n",
              "      fill: #FFFFFF;\n",
              "    }\n",
              "  </style>\n",
              "\n",
              "      <script>\n",
              "        const buttonEl =\n",
              "          document.querySelector('#df-23ba5e0b-a546-4747-80b6-0fdb760e6fb8 button.colab-df-convert');\n",
              "        buttonEl.style.display =\n",
              "          google.colab.kernel.accessAllowed ? 'block' : 'none';\n",
              "\n",
              "        async function convertToInteractive(key) {\n",
              "          const element = document.querySelector('#df-23ba5e0b-a546-4747-80b6-0fdb760e6fb8');\n",
              "          const dataTable =\n",
              "            await google.colab.kernel.invokeFunction('convertToInteractive',\n",
              "                                                     [key], {});\n",
              "          if (!dataTable) return;\n",
              "\n",
              "          const docLinkHtml = 'Like what you see? Visit the ' +\n",
              "            '<a target=\"_blank\" href=https://colab.research.google.com/notebooks/data_table.ipynb>data table notebook</a>'\n",
              "            + ' to learn more about interactive tables.';\n",
              "          element.innerHTML = '';\n",
              "          dataTable['output_type'] = 'display_data';\n",
              "          await google.colab.output.renderOutput(dataTable, element);\n",
              "          const docLink = document.createElement('div');\n",
              "          docLink.innerHTML = docLinkHtml;\n",
              "          element.appendChild(docLink);\n",
              "        }\n",
              "      </script>\n",
              "    </div>\n",
              "  </div>\n",
              "  "
            ]
          },
          "metadata": {},
          "execution_count": 70
        }
      ]
    },
    {
      "cell_type": "code",
      "source": [
        "df.shape"
      ],
      "metadata": {
        "colab": {
          "base_uri": "https://localhost:8080/"
        },
        "id": "WiQY3iGxF-FP",
        "outputId": "88754588-e529-47cb-94b8-803f4c381f67"
      },
      "execution_count": null,
      "outputs": [
        {
          "output_type": "execute_result",
          "data": {
            "text/plain": [
              "(12316, 32)"
            ]
          },
          "metadata": {},
          "execution_count": 71
        }
      ]
    },
    {
      "cell_type": "code",
      "source": [
        "df.dtypes"
      ],
      "metadata": {
        "colab": {
          "base_uri": "https://localhost:8080/"
        },
        "id": "7UnxUvtiGA_y",
        "outputId": "70a14b8f-f67c-478f-f32b-c6ae0aacf30a"
      },
      "execution_count": null,
      "outputs": [
        {
          "output_type": "execute_result",
          "data": {
            "text/plain": [
              "Time                           object\n",
              "Day_of_week                    object\n",
              "Age_band_of_driver             object\n",
              "Sex_of_driver                  object\n",
              "Educational_level              object\n",
              "Vehicle_driver_relation        object\n",
              "Driving_experience             object\n",
              "Type_of_vehicle                object\n",
              "Owner_of_vehicle               object\n",
              "Service_year_of_vehicle        object\n",
              "Defect_of_vehicle              object\n",
              "Area_accident_occured          object\n",
              "Lanes_or_Medians               object\n",
              "Road_allignment                object\n",
              "Types_of_Junction              object\n",
              "Road_surface_type              object\n",
              "Road_surface_conditions        object\n",
              "Light_conditions               object\n",
              "Weather_conditions             object\n",
              "Type_of_collision              object\n",
              "Number_of_vehicles_involved     int64\n",
              "Number_of_casualties            int64\n",
              "Vehicle_movement               object\n",
              "Casualty_class                 object\n",
              "Sex_of_casualty                object\n",
              "Age_band_of_casualty           object\n",
              "Casualty_severity              object\n",
              "Work_of_casuality              object\n",
              "Fitness_of_casuality           object\n",
              "Pedestrian_movement            object\n",
              "Cause_of_accident              object\n",
              "Accident_severity              object\n",
              "dtype: object"
            ]
          },
          "metadata": {},
          "execution_count": 72
        }
      ]
    },
    {
      "cell_type": "code",
      "source": [],
      "metadata": {
        "id": "iyS-xQ9wHhF_"
      },
      "execution_count": null,
      "outputs": []
    },
    {
      "cell_type": "code",
      "source": [
        "df.isna().sum()"
      ],
      "metadata": {
        "colab": {
          "base_uri": "https://localhost:8080/"
        },
        "id": "cMk8ChtOFGNh",
        "outputId": "8255a1bb-6a47-4b3b-d463-27c4e225ee29"
      },
      "execution_count": null,
      "outputs": [
        {
          "output_type": "execute_result",
          "data": {
            "text/plain": [
              "Time                              0\n",
              "Day_of_week                       0\n",
              "Age_band_of_driver                0\n",
              "Sex_of_driver                     0\n",
              "Educational_level               741\n",
              "Vehicle_driver_relation         579\n",
              "Driving_experience              829\n",
              "Type_of_vehicle                 950\n",
              "Owner_of_vehicle                482\n",
              "Service_year_of_vehicle        3928\n",
              "Defect_of_vehicle              4427\n",
              "Area_accident_occured           239\n",
              "Lanes_or_Medians                385\n",
              "Road_allignment                 142\n",
              "Types_of_Junction               887\n",
              "Road_surface_type               172\n",
              "Road_surface_conditions           0\n",
              "Light_conditions                  0\n",
              "Weather_conditions                0\n",
              "Type_of_collision               155\n",
              "Number_of_vehicles_involved       0\n",
              "Number_of_casualties              0\n",
              "Vehicle_movement                308\n",
              "Casualty_class                    0\n",
              "Sex_of_casualty                   0\n",
              "Age_band_of_casualty              0\n",
              "Casualty_severity                 0\n",
              "Work_of_casuality              3198\n",
              "Fitness_of_casuality           2635\n",
              "Pedestrian_movement               0\n",
              "Cause_of_accident                 0\n",
              "Accident_severity                 0\n",
              "dtype: int64"
            ]
          },
          "metadata": {},
          "execution_count": 73
        }
      ]
    },
    {
      "cell_type": "code",
      "source": [
        "df['Time']=pd.to_datetime(df['Time'])"
      ],
      "metadata": {
        "id": "-IJnAkS_H0TI"
      },
      "execution_count": null,
      "outputs": []
    },
    {
      "cell_type": "code",
      "source": [
        "df.duplicated()"
      ],
      "metadata": {
        "colab": {
          "base_uri": "https://localhost:8080/"
        },
        "id": "-q9RSNwwGuKy",
        "outputId": "5fb87bab-0cfe-456e-99a2-7794a239f73f"
      },
      "execution_count": null,
      "outputs": [
        {
          "output_type": "execute_result",
          "data": {
            "text/plain": [
              "0        False\n",
              "1        False\n",
              "2        False\n",
              "3        False\n",
              "4        False\n",
              "         ...  \n",
              "12311    False\n",
              "12312    False\n",
              "12313    False\n",
              "12314    False\n",
              "12315    False\n",
              "Length: 12316, dtype: bool"
            ]
          },
          "metadata": {},
          "execution_count": 75
        }
      ]
    },
    {
      "cell_type": "code",
      "source": [
        "df.duplicated().sum()"
      ],
      "metadata": {
        "colab": {
          "base_uri": "https://localhost:8080/"
        },
        "id": "DRaPe-qIG9tK",
        "outputId": "f83d10d6-68aa-4366-a4b1-26bf2d67db94"
      },
      "execution_count": null,
      "outputs": [
        {
          "output_type": "execute_result",
          "data": {
            "text/plain": [
              "0"
            ]
          },
          "metadata": {},
          "execution_count": 76
        }
      ]
    },
    {
      "cell_type": "code",
      "source": [
        "df.groupby('Accident_severity').size()"
      ],
      "metadata": {
        "colab": {
          "base_uri": "https://localhost:8080/"
        },
        "id": "Qr-sfjoHHf5h",
        "outputId": "c84106e2-449c-4bcd-9470-fb3f9ef20df7"
      },
      "execution_count": null,
      "outputs": [
        {
          "output_type": "execute_result",
          "data": {
            "text/plain": [
              "Accident_severity\n",
              "Fatal injury        158\n",
              "Serious Injury     1743\n",
              "Slight Injury     10415\n",
              "dtype: int64"
            ]
          },
          "metadata": {},
          "execution_count": 77
        }
      ]
    },
    {
      "cell_type": "code",
      "source": [
        "df.hist(layout=(1,6),figsize=(70,10))\n",
        "plt.show()"
      ],
      "metadata": {
        "colab": {
          "base_uri": "https://localhost:8080/",
          "height": 451
        },
        "id": "_YWXKzplIAOA",
        "outputId": "cfb9d3dc-f1ca-48d5-a66a-003cf9339868"
      },
      "execution_count": null,
      "outputs": [
        {
          "output_type": "display_data",
          "data": {
            "text/plain": [
              "<Figure size 5040x720 with 6 Axes>"
            ],
            "image/png": "[encoded data removed]"
          },
          "metadata": {
            "needs_background": "light"
          }
        }
      ]
    },
    {
      "cell_type": "code",
      "source": [
        "df['Number_of_casualties'].value_counts()"
      ],
      "metadata": {
        "colab": {
          "base_uri": "https://localhost:8080/"
        },
        "id": "4_MHHn3uKYcy",
        "outputId": "8568a84f-5f4d-40d4-b720-a22fd38338d1"
      },
      "execution_count": null,
      "outputs": [
        {
          "output_type": "execute_result",
          "data": {
            "text/plain": [
              "1    8397\n",
              "2    2290\n",
              "3     909\n",
              "4     394\n",
              "5     207\n",
              "6      89\n",
              "7      22\n",
              "8       8\n",
              "Name: Number_of_casualties, dtype: int64"
            ]
          },
          "metadata": {},
          "execution_count": 79
        }
      ]
    },
    {
      "cell_type": "code",
      "source": [
        "plt.figure(figsize=(10,7))\n",
        "sns.boxplot(data=df,y='Number_of_vehicles_involved',x='Number_of_casualties')\n",
        "plt.show()"
      ],
      "metadata": {
        "colab": {
          "base_uri": "https://localhost:8080/",
          "height": 443
        },
        "id": "QDiIfBKHLkO2",
        "outputId": "b520ad9f-4351-4f42-e1af-efcf546caec6"
      },
      "execution_count": null,
      "outputs": [
        {
          "output_type": "display_data",
          "data": {
            "text/plain": [
              "<Figure size 720x504 with 1 Axes>"
            ],
            "image/png": "[encoded data removed]"
          },
          "metadata": {
            "needs_background": "light"
          }
        }
      ]
    },
    {
      "cell_type": "code",
      "source": [
        "sns.boxplot(data=df,y='Number_of_casualties')\n",
        "plt.show()"
      ],
      "metadata": {
        "colab": {
          "base_uri": "https://localhost:8080/",
          "height": 252
        },
        "id": "bhmsXZS7MEXP",
        "outputId": "4f591ead-3bfa-4c54-eb4f-1303307a9449"
      },
      "execution_count": null,
      "outputs": [
        {
          "output_type": "display_data",
          "data": {
            "text/plain": [
              "<Figure size 432x288 with 1 Axes>"
            ],
            "image/png": "[encoded data removed]"
          },
          "metadata": {
            "needs_background": "light"
          }
        }
      ]
    },
    {
      "cell_type": "code",
      "source": [
        "sns.boxplot(data=df,y='Number_of_vehicles_involved')\n",
        "plt.show()"
      ],
      "metadata": {
        "colab": {
          "base_uri": "https://localhost:8080/",
          "height": 252
        },
        "id": "Yu3kzTzCMWLP",
        "outputId": "b8b7ded7-3215-4043-bfc0-36317e04b67c"
      },
      "execution_count": null,
      "outputs": [
        {
          "output_type": "display_data",
          "data": {
            "text/plain": [
              "<Figure size 432x288 with 1 Axes>"
            ],
            "image/png": "[encoded data removed]"
          },
          "metadata": {
            "needs_background": "light"
          }
        }
      ]
    },
    {
      "cell_type": "code",
      "source": [
        "df['Number_of_vehicles_involved']"
      ],
      "metadata": {
        "colab": {
          "base_uri": "https://localhost:8080/"
        },
        "id": "fcMkQKMMMg1B",
        "outputId": "f2231eb3-2132-442e-fbe8-e7455cd2dad3"
      },
      "execution_count": null,
      "outputs": [
        {
          "output_type": "execute_result",
          "data": {
            "text/plain": [
              "0        2\n",
              "1        2\n",
              "2        2\n",
              "3        2\n",
              "4        2\n",
              "        ..\n",
              "12311    2\n",
              "12312    2\n",
              "12313    1\n",
              "12314    2\n",
              "12315    2\n",
              "Name: Number_of_vehicles_involved, Length: 12316, dtype: int64"
            ]
          },
          "metadata": {},
          "execution_count": 83
        }
      ]
    },
    {
      "cell_type": "code",
      "source": [
        "sns.scatterplot(x=df['Number_of_vehicles_involved'],y=df['Number_of_casualties'])\n",
        "plt.show()"
      ],
      "metadata": {
        "colab": {
          "base_uri": "https://localhost:8080/",
          "height": 280
        },
        "id": "X1nglPLhMw8P",
        "outputId": "9fd6f515-e620-4e09-c07a-1803138be0d9"
      },
      "execution_count": null,
      "outputs": [
        {
          "output_type": "display_data",
          "data": {
            "text/plain": [
              "<Figure size 432x288 with 1 Axes>"
            ],
            "image/png": "[encoded data removed]"
          },
          "metadata": {
            "needs_background": "light"
          }
        }
      ]
    },
    {
      "cell_type": "code",
      "source": [
        "sns.pairplot(df[['Number_of_vehicles_involved','Number_of_casualties']])\n",
        "plt.show()"
      ],
      "metadata": {
        "colab": {
          "base_uri": "https://localhost:8080/",
          "height": 369
        },
        "id": "oXL2NU7BNNpC",
        "outputId": "d0ce660e-85f0-4911-b2c0-ee5dc8f1c7ba"
      },
      "execution_count": null,
      "outputs": [
        {
          "output_type": "display_data",
          "data": {
            "text/plain": [
              "<Figure size 360x360 with 6 Axes>"
            ],
            "image/png": "[encoded data removed]"
          },
          "metadata": {
            "needs_background": "light"
          }
        }
      ]
    },
    {
      "cell_type": "code",
      "source": [
        "correlation_matrix=df[['Number_of_vehicles_involved','Number_of_casualties']].corr()\n",
        "sns.heatmap(correlation_matrix,annot=True)\n",
        "plt.show()"
      ],
      "metadata": {
        "colab": {
          "base_uri": "https://localhost:8080/",
          "height": 270
        },
        "id": "3VOg2AolNl7n",
        "outputId": "95dd599d-e0aa-4f37-f139-326b22387de2"
      },
      "execution_count": null,
      "outputs": [
        {
          "output_type": "display_data",
          "data": {
            "text/plain": [
              "<Figure size 432x288 with 2 Axes>"
            ],
            "image/png": "[encoded data removed]"
          },
          "metadata": {
            "needs_background": "light"
          }
        }
      ]
    },
    {
      "cell_type": "code",
      "source": [
        "plt.figure(figsize=(10,7))\n",
        "plt.pie(x=df['Accident_severity'].value_counts().values,\n",
        "        labels=df['Accident_severity'].value_counts().index,autopct='%2.2f%%')\n",
        "plt.show()"
      ],
      "metadata": {
        "colab": {
          "base_uri": "https://localhost:8080/",
          "height": 411
        },
        "id": "TlylvHNOOJt1",
        "outputId": "515f9216-1f26-4475-fede-2cd9721139ad"
      },
      "execution_count": null,
      "outputs": [
        {
          "output_type": "display_data",
          "data": {
            "text/plain": [
              "<Figure size 720x504 with 1 Axes>"
            ],
            "image/png": "[encoded data removed]"
          },
          "metadata": {}
        }
      ]
    },
    {
      "cell_type": "code",
      "source": [
        "grid=sns.FacetGrid(data=df,col='Accident_severity',height=4,aspect=1,sharey=False)\n",
        "\n",
        "grid.map(sns.countplot,'Number_of_vehicles_involved',palette=['black','green','brown'])\n",
        "plt.show()"
      ],
      "metadata": {
        "colab": {
          "base_uri": "https://localhost:8080/",
          "height": 332
        },
        "id": "vmdW6xmMPhOu",
        "outputId": "ea875e70-635d-450e-a795-9afdca5c5102"
      },
      "execution_count": null,
      "outputs": [
        {
          "output_type": "stream",
          "name": "stderr",
          "text": [
            "/usr/local/lib/python3.8/dist-packages/seaborn/axisgrid.py:670: UserWarning: Using the countplot function without specifying `order` is likely to produce an incorrect plot.\n",
            "  warnings.warn(warning)\n"
          ]
        },
        {
          "output_type": "display_data",
          "data": {
            "text/plain": [
              "<Figure size 864x288 with 3 Axes>"
            ],
            "image/png": "[encoded data removed]"
          },
          "metadata": {
            "needs_background": "light"
          }
        }
      ]
    },
    {
      "cell_type": "code",
      "source": [
        "lists=['Vehicle_driver_relation', 'Work_of_casuality', 'Fitness_of_casuality','Day_of_week','Casualty_severity','Time','Sex_of_driver','Educational_level','Defect_of_vehicle','Owner_of_vehicle','Service_year_of_vehicle', 'Road_surface_type','Sex_of_casualty']\n",
        "df.drop(columns = lists, inplace=True)\n",
        "df.shape"
      ],
      "metadata": {
        "colab": {
          "base_uri": "https://localhost:8080/"
        },
        "id": "eyz7AJmlKfun",
        "outputId": "e3227f06-175d-4096-d7e5-93bf080ce8cb"
      },
      "execution_count": null,
      "outputs": [
        {
          "output_type": "execute_result",
          "data": {
            "text/plain": [
              "(12316, 19)"
            ]
          },
          "metadata": {},
          "execution_count": 89
        }
      ]
    },
    {
      "cell_type": "code",
      "source": [
        "fill_cols = ['Driving_experience','Type_of_vehicle','Area_accident_occured','Lanes_or_Medians','Road_allignment','Types_of_Junction','Type_of_collision','Vehicle_movement']\n",
        "for i in fill_cols:\n",
        "    mode = df[i].mode()[0]\n",
        "    df[i].fillna(mode, inplace=True)\n",
        "\n",
        "df.isna().sum()"
      ],
      "metadata": {
        "colab": {
          "base_uri": "https://localhost:8080/"
        },
        "id": "HUBlU1olIomQ",
        "outputId": "bc669584-4919-41a2-b2da-9eb4a6beeff1"
      },
      "execution_count": null,
      "outputs": [
        {
          "output_type": "execute_result",
          "data": {
            "text/plain": [
              "Age_band_of_driver             0\n",
              "Driving_experience             0\n",
              "Type_of_vehicle                0\n",
              "Area_accident_occured          0\n",
              "Lanes_or_Medians               0\n",
              "Road_allignment                0\n",
              "Types_of_Junction              0\n",
              "Road_surface_conditions        0\n",
              "Light_conditions               0\n",
              "Weather_conditions             0\n",
              "Type_of_collision              0\n",
              "Number_of_vehicles_involved    0\n",
              "Number_of_casualties           0\n",
              "Vehicle_movement               0\n",
              "Casualty_class                 0\n",
              "Age_band_of_casualty           0\n",
              "Pedestrian_movement            0\n",
              "Cause_of_accident              0\n",
              "Accident_severity              0\n",
              "dtype: int64"
            ]
          },
          "metadata": {},
          "execution_count": 90
        }
      ]
    },
    {
      "cell_type": "code",
      "source": [
        "from sklearn.preprocessing import LabelEncoder\n",
        "\n",
        "LE=LabelEncoder()\n",
        "df=df.apply(LE.fit_transform)\n",
        "df"
      ],
      "metadata": {
        "colab": {
          "base_uri": "https://localhost:8080/",
          "height": 487
        },
        "id": "hV5J2nERRkAd",
        "outputId": "2b867a15-abd2-428e-a3c4-586dda32d64d"
      },
      "execution_count": null,
      "outputs": [
        {
          "output_type": "execute_result",
          "data": {
            "text/plain": [
              "       Age_band_of_driver  Driving_experience  Type_of_vehicle  \\\n",
              "0                       0                   0                0   \n",
              "1                       1                   3               11   \n",
              "2                       0                   0                5   \n",
              "3                       0                   2               11   \n",
              "4                       0                   1                0   \n",
              "...                   ...                 ...              ...   \n",
              "12311                   1                   1                4   \n",
              "12312                   4                   2                0   \n",
              "12313                   2                   2                1   \n",
              "12314                   0                   3                5   \n",
              "12315                   0                   2                7   \n",
              "\n",
              "       Area_accident_occured  Lanes_or_Medians  Road_allignment  \\\n",
              "0                          9                 2                5   \n",
              "1                          6                 4                5   \n",
              "2                          1                 6                5   \n",
              "3                          6                 6                6   \n",
              "4                          4                 6                5   \n",
              "...                      ...               ...              ...   \n",
              "12311                      5                 4                5   \n",
              "12312                      5                 2                0   \n",
              "12313                      5                 2                7   \n",
              "12314                      6                 4                7   \n",
              "12315                      5                 4                7   \n",
              "\n",
              "       Types_of_Junction  Road_surface_conditions  Light_conditions  \\\n",
              "0                      1                        0                 3   \n",
              "1                      1                        0                 3   \n",
              "2                      1                        0                 3   \n",
              "3                      7                        0                 0   \n",
              "4                      7                        0                 0   \n",
              "...                  ...                      ...               ...   \n",
              "12311                  1                        0                 3   \n",
              "12312                  1                        0                 3   \n",
              "12313                  1                        0                 3   \n",
              "12314                  1                        0                 0   \n",
              "12315                  2                        0                 0   \n",
              "\n",
              "       Weather_conditions  Type_of_collision  Number_of_vehicles_involved  \\\n",
              "0                       2                  3                            1   \n",
              "1                       2                  8                            1   \n",
              "2                       2                  2                            1   \n",
              "3                       2                  8                            1   \n",
              "4                       2                  8                            1   \n",
              "...                   ...                ...                          ...   \n",
              "12311                   2                  8                            1   \n",
              "12312                   2                  8                            1   \n",
              "12313                   2                  8                            0   \n",
              "12314                   2                  8                            1   \n",
              "12315                   2                  8                            1   \n",
              "\n",
              "       Number_of_casualties  Vehicle_movement  Casualty_class  \\\n",
              "0                         1                 2               3   \n",
              "1                         1                 2               3   \n",
              "2                         1                 2               0   \n",
              "3                         1                 2               2   \n",
              "4                         1                 2               3   \n",
              "...                     ...               ...             ...   \n",
              "12311                     0                 2               3   \n",
              "12312                     0                 4               3   \n",
              "12313                     0                 4               0   \n",
              "12314                     0                 4               3   \n",
              "12315                     0                 8               2   \n",
              "\n",
              "       Age_band_of_casualty  Pedestrian_movement  Cause_of_accident  \\\n",
              "0                         5                    5                  9   \n",
              "1                         5                    5                 16   \n",
              "2                         1                    5                  0   \n",
              "3                         0                    5                  1   \n",
              "4                         5                    5                 16   \n",
              "...                     ...                  ...                ...   \n",
              "12311                     5                    5                 10   \n",
              "12312                     5                    5                 10   \n",
              "12313                     1                    5                  1   \n",
              "12314                     5                    5                  5   \n",
              "12315                     2                    1                  1   \n",
              "\n",
              "       Accident_severity  \n",
              "0                      2  \n",
              "1                      2  \n",
              "2                      1  \n",
              "3                      2  \n",
              "4                      2  \n",
              "...                  ...  \n",
              "12311                  2  \n",
              "12312                  2  \n",
              "12313                  1  \n",
              "12314                  2  \n",
              "12315                  2  \n",
              "\n",
              "[12316 rows x 19 columns]"
            ],
            "text/html": [
              "\n",
              "  <div id=\"df-3fa30e65-a39d-46fd-93cf-7cbc966daabf\">\n",
              "    <div class=\"colab-df-container\">\n",
              "      <div>\n",
              "<style scoped>\n",
              "    .dataframe tbody tr th:only-of-type {\n",
              "        vertical-align: middle;\n",
              "    }\n",
              "\n",
              "    .dataframe tbody tr th {\n",
              "        vertical-align: top;\n",
              "    }\n",
              "\n",
              "    .dataframe thead th {\n",
              "        text-align: right;\n",
              "    }\n",
              "</style>\n",
              "<table border=\"1\" class=\"dataframe\">\n",
              "  <thead>\n",
              "    <tr style=\"text-align: right;\">\n",
              "      <th></th>\n",
              "      <th>Age_band_of_driver</th>\n",
              "      <th>Driving_experience</th>\n",
              "      <th>Type_of_vehicle</th>\n",
              "      <th>Area_accident_occured</th>\n",
              "      <th>Lanes_or_Medians</th>\n",
              "      <th>Road_allignment</th>\n",
              "      <th>Types_of_Junction</th>\n",
              "      <th>Road_surface_conditions</th>\n",
              "      <th>Light_conditions</th>\n",
              "      <th>Weather_conditions</th>\n",
              "      <th>Type_of_collision</th>\n",
              "      <th>Number_of_vehicles_involved</th>\n",
              "      <th>Number_of_casualties</th>\n",
              "      <th>Vehicle_movement</th>\n",
              "      <th>Casualty_class</th>\n",
              "      <th>Age_band_of_casualty</th>\n",
              "      <th>Pedestrian_movement</th>\n",
              "      <th>Cause_of_accident</th>\n",
              "      <th>Accident_severity</th>\n",
              "    </tr>\n",
              "  </thead>\n",
              "  <tbody>\n",
              "    <tr>\n",
              "      <th>0</th>\n",
              "      <td>0</td>\n",
              "      <td>0</td>\n",
              "      <td>0</td>\n",
              "      <td>9</td>\n",
              "      <td>2</td>\n",
              "      <td>5</td>\n",
              "      <td>1</td>\n",
              "      <td>0</td>\n",
              "      <td>3</td>\n",
              "      <td>2</td>\n",
              "      <td>3</td>\n",
              "      <td>1</td>\n",
              "      <td>1</td>\n",
              "      <td>2</td>\n",
              "      <td>3</td>\n",
              "      <td>5</td>\n",
              "      <td>5</td>\n",
              "      <td>9</td>\n",
              "      <td>2</td>\n",
              "    </tr>\n",
              "    <tr>\n",
              "      <th>1</th>\n",
              "      <td>1</td>\n",
              "      <td>3</td>\n",
              "      <td>11</td>\n",
              "      <td>6</td>\n",
              "      <td>4</td>\n",
              "      <td>5</td>\n",
              "      <td>1</td>\n",
              "      <td>0</td>\n",
              "      <td>3</td>\n",
              "      <td>2</td>\n",
              "      <td>8</td>\n",
              "      <td>1</td>\n",
              "      <td>1</td>\n",
              "      <td>2</td>\n",
              "      <td>3</td>\n",
              "      <td>5</td>\n",
              "      <td>5</td>\n",
              "      <td>16</td>\n",
              "      <td>2</td>\n",
              "    </tr>\n",
              "    <tr>\n",
              "      <th>2</th>\n",
              "      <td>0</td>\n",
              "      <td>0</td>\n",
              "      <td>5</td>\n",
              "      <td>1</td>\n",
              "      <td>6</td>\n",
              "      <td>5</td>\n",
              "      <td>1</td>\n",
              "      <td>0</td>\n",
              "      <td>3</td>\n",
              "      <td>2</td>\n",
              "      <td>2</td>\n",
              "      <td>1</td>\n",
              "      <td>1</td>\n",
              "      <td>2</td>\n",
              "      <td>0</td>\n",
              "      <td>1</td>\n",
              "      <td>5</td>\n",
              "      <td>0</td>\n",
              "      <td>1</td>\n",
              "    </tr>\n",
              "    <tr>\n",
              "      <th>3</th>\n",
              "      <td>0</td>\n",
              "      <td>2</td>\n",
              "      <td>11</td>\n",
              "      <td>6</td>\n",
              "      <td>6</td>\n",
              "      <td>6</td>\n",
              "      <td>7</td>\n",
              "      <td>0</td>\n",
              "      <td>0</td>\n",
              "      <td>2</td>\n",
              "      <td>8</td>\n",
              "      <td>1</td>\n",
              "      <td>1</td>\n",
              "      <td>2</td>\n",
              "      <td>2</td>\n",
              "      <td>0</td>\n",
              "      <td>5</td>\n",
              "      <td>1</td>\n",
              "      <td>2</td>\n",
              "    </tr>\n",
              "    <tr>\n",
              "      <th>4</th>\n",
              "      <td>0</td>\n",
              "      <td>1</td>\n",
              "      <td>0</td>\n",
              "      <td>4</td>\n",
              "      <td>6</td>\n",
              "      <td>5</td>\n",
              "      <td>7</td>\n",
              "      <td>0</td>\n",
              "      <td>0</td>\n",
              "      <td>2</td>\n",
              "      <td>8</td>\n",
              "      <td>1</td>\n",
              "      <td>1</td>\n",
              "      <td>2</td>\n",
              "      <td>3</td>\n",
              "      <td>5</td>\n",
              "      <td>5</td>\n",
              "      <td>16</td>\n",
              "      <td>2</td>\n",
              "    </tr>\n",
              "    <tr>\n",
              "      <th>...</th>\n",
              "      <td>...</td>\n",
              "      <td>...</td>\n",
              "      <td>...</td>\n",
              "      <td>...</td>\n",
              "      <td>...</td>\n",
              "      <td>...</td>\n",
              "      <td>...</td>\n",
              "      <td>...</td>\n",
              "      <td>...</td>\n",
              "      <td>...</td>\n",
              "      <td>...</td>\n",
              "      <td>...</td>\n",
              "      <td>...</td>\n",
              "      <td>...</td>\n",
              "      <td>...</td>\n",
              "      <td>...</td>\n",
              "      <td>...</td>\n",
              "      <td>...</td>\n",
              "      <td>...</td>\n",
              "    </tr>\n",
              "    <tr>\n",
              "      <th>12311</th>\n",
              "      <td>1</td>\n",
              "      <td>1</td>\n",
              "      <td>4</td>\n",
              "      <td>5</td>\n",
              "      <td>4</td>\n",
              "      <td>5</td>\n",
              "      <td>1</td>\n",
              "      <td>0</td>\n",
              "      <td>3</td>\n",
              "      <td>2</td>\n",
              "      <td>8</td>\n",
              "      <td>1</td>\n",
              "      <td>0</td>\n",
              "      <td>2</td>\n",
              "      <td>3</td>\n",
              "      <td>5</td>\n",
              "      <td>5</td>\n",
              "      <td>10</td>\n",
              "      <td>2</td>\n",
              "    </tr>\n",
              "    <tr>\n",
              "      <th>12312</th>\n",
              "      <td>4</td>\n",
              "      <td>2</td>\n",
              "      <td>0</td>\n",
              "      <td>5</td>\n",
              "      <td>2</td>\n",
              "      <td>0</td>\n",
              "      <td>1</td>\n",
              "      <td>0</td>\n",
              "      <td>3</td>\n",
              "      <td>2</td>\n",
              "      <td>8</td>\n",
              "      <td>1</td>\n",
              "      <td>0</td>\n",
              "      <td>4</td>\n",
              "      <td>3</td>\n",
              "      <td>5</td>\n",
              "      <td>5</td>\n",
              "      <td>10</td>\n",
              "      <td>2</td>\n",
              "    </tr>\n",
              "    <tr>\n",
              "      <th>12313</th>\n",
              "      <td>2</td>\n",
              "      <td>2</td>\n",
              "      <td>1</td>\n",
              "      <td>5</td>\n",
              "      <td>2</td>\n",
              "      <td>7</td>\n",
              "      <td>1</td>\n",
              "      <td>0</td>\n",
              "      <td>3</td>\n",
              "      <td>2</td>\n",
              "      <td>8</td>\n",
              "      <td>0</td>\n",
              "      <td>0</td>\n",
              "      <td>4</td>\n",
              "      <td>0</td>\n",
              "      <td>1</td>\n",
              "      <td>5</td>\n",
              "      <td>1</td>\n",
              "      <td>1</td>\n",
              "    </tr>\n",
              "    <tr>\n",
              "      <th>12314</th>\n",
              "      <td>0</td>\n",
              "      <td>3</td>\n",
              "      <td>5</td>\n",
              "      <td>6</td>\n",
              "      <td>4</td>\n",
              "      <td>7</td>\n",
              "      <td>1</td>\n",
              "      <td>0</td>\n",
              "      <td>0</td>\n",
              "      <td>2</td>\n",
              "      <td>8</td>\n",
              "      <td>1</td>\n",
              "      <td>0</td>\n",
              "      <td>4</td>\n",
              "      <td>3</td>\n",
              "      <td>5</td>\n",
              "      <td>5</td>\n",
              "      <td>5</td>\n",
              "      <td>2</td>\n",
              "    </tr>\n",
              "    <tr>\n",
              "      <th>12315</th>\n",
              "      <td>0</td>\n",
              "      <td>2</td>\n",
              "      <td>7</td>\n",
              "      <td>5</td>\n",
              "      <td>4</td>\n",
              "      <td>7</td>\n",
              "      <td>2</td>\n",
              "      <td>0</td>\n",
              "      <td>0</td>\n",
              "      <td>2</td>\n",
              "      <td>8</td>\n",
              "      <td>1</td>\n",
              "      <td>0</td>\n",
              "      <td>8</td>\n",
              "      <td>2</td>\n",
              "      <td>2</td>\n",
              "      <td>1</td>\n",
              "      <td>1</td>\n",
              "      <td>2</td>\n",
              "    </tr>\n",
              "  </tbody>\n",
              "</table>\n",
              "<p>12316 rows × 19 columns</p>\n",
              "</div>\n",
              "      <button class=\"colab-df-convert\" onclick=\"convertToInteractive('df-3fa30e65-a39d-46fd-93cf-7cbc966daabf')\"\n",
              "              title=\"Convert this dataframe to an interactive table.\"\n",
              "              style=\"display:none;\">\n",
              "        \n",
              "  <svg xmlns=\"http://www.w3.org/2000/svg\" height=\"24px\"viewBox=\"0 0 24 24\"\n",
              "       width=\"24px\">\n",
              "    <path d=\"M0 0h24v24H0V0z\" fill=\"none\"/>\n",
              "    <path d=\"M18.56 5.44l.94 2.06.94-2.06 2.06-.94-2.06-.94-.94-2.06-.94 2.06-2.06.94zm-11 1L8.5 8.5l.94-2.06 2.06-.94-2.06-.94L8.5 2.5l-.94 2.06-2.06.94zm10 10l.94 2.06.94-2.06 2.06-.94-2.06-.94-.94-2.06-.94 2.06-2.06.94z\"/><path d=\"M17.41 7.96l-1.37-1.37c-.4-.4-.92-.59-1.43-.59-.52 0-1.04.2-1.43.59L10.3 9.45l-7.72 7.72c-.78.78-.78 2.05 0 2.83L4 21.41c.39.39.9.59 1.41.59.51 0 1.02-.2 1.41-.59l7.78-7.78 2.81-2.81c.8-.78.8-2.07 0-2.86zM5.41 20L4 18.59l7.72-7.72 1.47 1.35L5.41 20z\"/>\n",
              "  </svg>\n",
              "      </button>\n",
              "      \n",
              "  <style>\n",
              "    .colab-df-container {\n",
              "      display:flex;\n",
              "      flex-wrap:wrap;\n",
              "      gap: 12px;\n",
              "    }\n",
              "\n",
              "    .colab-df-convert {\n",
              "      background-color: #E8F0FE;\n",
              "      border: none;\n",
              "      border-radius: 50%;\n",
              "      cursor: pointer;\n",
              "      display: none;\n",
              "      fill: #1967D2;\n",
              "      height: 32px;\n",
              "      padding: 0 0 0 0;\n",
              "      width: 32px;\n",
              "    }\n",
              "\n",
              "    .colab-df-convert:hover {\n",
              "      background-color: #E2EBFA;\n",
              "      box-shadow: 0px 1px 2px rgba(60, 64, 67, 0.3), 0px 1px 3px 1px rgba(60, 64, 67, 0.15);\n",
              "      fill: #174EA6;\n",
              "    }\n",
              "\n",
              "    [theme=dark] .colab-df-convert {\n",
              "      background-color: #3B4455;\n",
              "      fill: #D2E3FC;\n",
              "    }\n",
              "\n",
              "    [theme=dark] .colab-df-convert:hover {\n",
              "      background-color: #434B5C;\n",
              "      box-shadow: 0px 1px 3px 1px rgba(0, 0, 0, 0.15);\n",
              "      filter: drop-shadow(0px 1px 2px rgba(0, 0, 0, 0.3));\n",
              "      fill: #FFFFFF;\n",
              "    }\n",
              "  </style>\n",
              "\n",
              "      <script>\n",
              "        const buttonEl =\n",
              "          document.querySelector('#df-3fa30e65-a39d-46fd-93cf-7cbc966daabf button.colab-df-convert');\n",
              "        buttonEl.style.display =\n",
              "          google.colab.kernel.accessAllowed ? 'block' : 'none';\n",
              "\n",
              "        async function convertToInteractive(key) {\n",
              "          const element = document.querySelector('#df-3fa30e65-a39d-46fd-93cf-7cbc966daabf');\n",
              "          const dataTable =\n",
              "            await google.colab.kernel.invokeFunction('convertToInteractive',\n",
              "                                                     [key], {});\n",
              "          if (!dataTable) return;\n",
              "\n",
              "          const docLinkHtml = 'Like what you see? Visit the ' +\n",
              "            '<a target=\"_blank\" href=https://colab.research.google.com/notebooks/data_table.ipynb>data table notebook</a>'\n",
              "            + ' to learn more about interactive tables.';\n",
              "          element.innerHTML = '';\n",
              "          dataTable['output_type'] = 'display_data';\n",
              "          await google.colab.output.renderOutput(dataTable, element);\n",
              "          const docLink = document.createElement('div');\n",
              "          docLink.innerHTML = docLinkHtml;\n",
              "          element.appendChild(docLink);\n",
              "        }\n",
              "      </script>\n",
              "    </div>\n",
              "  </div>\n",
              "  "
            ]
          },
          "metadata": {},
          "execution_count": 91
        }
      ]
    },
    {
      "cell_type": "code",
      "source": [
        "plt.figure(figsize=[20,15])\n",
        "sns.heatmap(df.corr(),annot=True)"
      ],
      "metadata": {
        "colab": {
          "base_uri": "https://localhost:8080/",
          "height": 1000
        },
        "id": "HYhIWXMmSsA1",
        "outputId": "fa528260-654d-4945-d506-56fed6712104"
      },
      "execution_count": null,
      "outputs": [
        {
          "output_type": "execute_result",
          "data": {
            "text/plain": [
              "<matplotlib.axes._subplots.AxesSubplot at 0x7f5f600ca250>"
            ]
          },
          "metadata": {},
          "execution_count": 92
        },
        {
          "output_type": "display_data",
          "data": {
            "text/plain": [
              "<Figure size 1440x1080 with 2 Axes>"
            ],
            "image/png": "[encoded data removed]"
          },
          "metadata": {
            "needs_background": "light"
          }
        }
      ]
    },
    {
      "cell_type": "code",
      "source": [
        "x=df.drop(columns=[\"Accident_severity\"])\n",
        "y=df[\"Accident_severity\"]\n",
        "from sklearn.model_selection import train_test_split\n",
        "xtrain, xtest, ytrain, ytest = train_test_split(x, y, test_size=0.3, random_state=42)\n",
        "\n"
      ],
      "metadata": {
        "id": "W6055CLnQ2s1"
      },
      "execution_count": null,
      "outputs": []
    },
    {
      "cell_type": "code",
      "source": [],
      "metadata": {
        "id": "s08xIpjbS55_"
      },
      "execution_count": null,
      "outputs": []
    },
    {
      "cell_type": "code",
      "source": [
        "from sklearn.ensemble import RandomForestClassifier\n",
        "model=RandomForestClassifier()\n",
        "params={\"n_estimators\" : [100,200],\n",
        "        \"criterion\" : [\"gini\",\"entropy\"]}\n"
      ],
      "metadata": {
        "id": "JYM2m26KRecP"
      },
      "execution_count": null,
      "outputs": []
    },
    {
      "cell_type": "code",
      "source": [
        "model=RandomForestClassifier(criterion=\"entropy\",n_estimators=200)\n",
        "model.fit(xtrain,ytrain)\n",
        "ypred=model.predict(xtest)\n"
      ],
      "metadata": {
        "id": "S9pRnl5nTMZQ"
      },
      "execution_count": null,
      "outputs": []
    },
    {
      "cell_type": "code",
      "source": [
        "from sklearn.metrics import accuracy_score,classification_report,confusion_matrix\n",
        "print(accuracy_score(ytest,ypred))\n",
        "print(classification_report(ytest,ypred))\n",
        "cm=confusion_matrix(ytest,ypred)\n",
        "sns.heatmap(cm,annot=True)"
      ],
      "metadata": {
        "colab": {
          "base_uri": "https://localhost:8080/",
          "height": 597
        },
        "id": "a9r_c8oyTTgF",
        "outputId": "ac3df976-992e-4339-fdd1-5720d26b0959"
      },
      "execution_count": null,
      "outputs": [
        {
          "output_type": "stream",
          "name": "stdout",
          "text": [
            "0.8378890392422192\n",
            "              precision    recall  f1-score   support\n",
            "\n",
            "           0       0.00      0.00      0.00        52\n",
            "           1       0.61      0.03      0.05       552\n",
            "           2       0.84      1.00      0.91      3091\n",
            "\n",
            "    accuracy                           0.84      3695\n",
            "   macro avg       0.48      0.34      0.32      3695\n",
            "weighted avg       0.79      0.84      0.77      3695\n",
            "\n"
          ]
        },
        {
          "output_type": "stream",
          "name": "stderr",
          "text": [
            "/usr/local/lib/python3.8/dist-packages/sklearn/metrics/_classification.py:1318: UndefinedMetricWarning: Precision and F-score are ill-defined and being set to 0.0 in labels with no predicted samples. Use `zero_division` parameter to control this behavior.\n",
            "  _warn_prf(average, modifier, msg_start, len(result))\n",
            "/usr/local/lib/python3.8/dist-packages/sklearn/metrics/_classification.py:1318: UndefinedMetricWarning: Precision and F-score are ill-defined and being set to 0.0 in labels with no predicted samples. Use `zero_division` parameter to control this behavior.\n",
            "  _warn_prf(average, modifier, msg_start, len(result))\n",
            "/usr/local/lib/python3.8/dist-packages/sklearn/metrics/_classification.py:1318: UndefinedMetricWarning: Precision and F-score are ill-defined and being set to 0.0 in labels with no predicted samples. Use `zero_division` parameter to control this behavior.\n",
            "  _warn_prf(average, modifier, msg_start, len(result))\n"
          ]
        },
        {
          "output_type": "execute_result",
          "data": {
            "text/plain": [
              "<matplotlib.axes._subplots.AxesSubplot at 0x7f5f607540a0>"
            ]
          },
          "metadata": {},
          "execution_count": 96
        },
        {
          "output_type": "display_data",
          "data": {
            "text/plain": [
              "<Figure size 432x288 with 2 Axes>"
            ],
            "image/png": "[encoded data removed]"
          },
          "metadata": {
            "needs_background": "light"
          }
        }
      ]
    }
  ]
}